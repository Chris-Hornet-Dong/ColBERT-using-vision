{
 "cells": [
  {
   "cell_type": "code",
   "execution_count": 2,
   "id": "5516c54e",
   "metadata": {},
   "outputs": [],
   "source": [
    "import torch\n",
    "import os"
   ]
  },
  {
   "cell_type": "code",
   "execution_count": 13,
   "id": "be289269",
   "metadata": {},
   "outputs": [
    {
     "name": "stdout",
     "output_type": "stream",
     "text": [
      "g:\\Research\\James\\VideoColBERT\\project\n",
      "g:\\Research\\James\\VideoColBERT\\project\\test_image.jpg\n",
      "g:\\Research\\James\\VideoColBERT\\project\\..//CLIP\n",
      "['.git', '.github', '.gitignore', 'CLIP.png', 'LICENSE', 'MANIFEST.in', 'README.md', 'clip', 'data', 'hubconf.py', 'model-card.md', 'notebooks', 'requirements.txt', 'setup.py', 'tests']\n"
     ]
    }
   ],
   "source": [
    "cwd = os.getcwd()\n",
    "print(cwd)\n",
    "path1 = os.path.join(cwd, \"test_image.jpg\")\n",
    "print(path1)\n",
    "path2 = os.path.join(cwd, \"..//CLIP\")\n",
    "print(path2)\n",
    "dir = os.listdir(path2)\n",
    "print(dir)\n",
    "\n",
    "\n",
    "\n"
   ]
  }
 ],
 "metadata": {
  "kernelspec": {
   "display_name": "CLIP",
   "language": "python",
   "name": "python3"
  },
  "language_info": {
   "codemirror_mode": {
    "name": "ipython",
    "version": 3
   },
   "file_extension": ".py",
   "mimetype": "text/x-python",
   "name": "python",
   "nbconvert_exporter": "python",
   "pygments_lexer": "ipython3",
   "version": "3.13.5"
  }
 },
 "nbformat": 4,
 "nbformat_minor": 5
}
